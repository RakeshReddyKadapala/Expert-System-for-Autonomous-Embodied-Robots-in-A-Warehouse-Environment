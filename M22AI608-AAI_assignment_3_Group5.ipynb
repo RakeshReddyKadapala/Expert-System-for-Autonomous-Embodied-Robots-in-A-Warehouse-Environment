{
 "cells": [
  {
   "cell_type": "code",
   "execution_count": 15,
   "id": "6f6520a0",
   "metadata": {},
   "outputs": [],
   "source": [
    "#AIA_Assignemnt3\n",
    "# Group: M22AI608, M22AI567, M22AI539, M22AI561, M22AI536"
   ]
  },
  {
   "cell_type": "code",
   "execution_count": 9,
   "id": "94f00ffe",
   "metadata": {},
   "outputs": [
    {
     "name": "stdout",
     "output_type": "stream",
     "text": [
      "Collected Items: ['Item Type 1', 'Item Type 2', 'Item Type 2', 'Item Type 3', 'Item Type 2']\n",
      "Total Time Taken: 26.58 minutes\n",
      "Total Charging Events: 3\n",
      "Path to collect item at (1, 1): [(0, 0), (0, 1), (1, 1)]\n",
      "Path to collect item at (4, 3): [(4, 4), (4, 3)]\n",
      "Path to collect item at (2, 3): [(2, 2), (2, 3)]\n",
      "Path to collect item at (3, 2): [(4, 4), (3, 4), (3, 3), (3, 2)]\n",
      "Path to collect item at (0, 3): [(4, 4), (3, 4), (2, 4), (2, 3), (1, 3), (0, 3)]\n",
      "Time taken to collect item at (1, 1): 4.92 minutes\n",
      "Time taken to collect item at (4, 3): 3.90 minutes\n",
      "Time taken to collect item at (2, 3): 5.53 minutes\n",
      "Time taken to collect item at (3, 2): 7.57 minutes\n",
      "Time taken to collect item at (0, 3): 1.67 minutes\n",
      "Recharge 1: 1.00 minutes\n",
      "Recharge 2: 1.00 minutes\n",
      "Recharge 3: 1.00 minutes\n"
     ]
    },
    {
     "data": {
      "application/vnd.plotly.v1+json": {
       "config": {
        "plotlyServerURL": "https://plot.ly"
       },
       "data": [
        {
         "colorscale": [
          [
           0,
           "rgb(247,251,255)"
          ],
          [
           0.125,
           "rgb(222,235,247)"
          ],
          [
           0.25,
           "rgb(198,219,239)"
          ],
          [
           0.375,
           "rgb(158,202,225)"
          ],
          [
           0.5,
           "rgb(107,174,214)"
          ],
          [
           0.625,
           "rgb(66,146,198)"
          ],
          [
           0.75,
           "rgb(33,113,181)"
          ],
          [
           0.875,
           "rgb(8,81,156)"
          ],
          [
           1,
           "rgb(8,48,107)"
          ]
         ],
         "name": "Grid",
         "showscale": false,
         "type": "heatmap",
         "z": [
          [
           0,
           0,
           -1,
           2,
           0
          ],
          [
           0,
           1,
           0,
           0,
           -1
          ],
          [
           0,
           0,
           0,
           2,
           0
          ],
          [
           0,
           0,
           3,
           0,
           0
          ],
          [
           0,
           -1,
           0,
           2,
           0
          ]
         ],
         "zmax": 3,
         "zmin": -1
        },
        {
         "marker": {
          "color": "black",
          "size": 15,
          "symbol": "x"
         },
         "mode": "markers",
         "name": "Obstacles",
         "type": "scatter",
         "x": [
          2,
          4,
          1
         ],
         "y": [
          0,
          1,
          4
         ]
        },
        {
         "line": {
          "color": "red",
          "width": 2
         },
         "marker": {
          "color": "red",
          "size": 8
         },
         "mode": "markers+lines",
         "name": "Path",
         "type": "scatter",
         "x": [
          0,
          1,
          1,
          1,
          1,
          2,
          3,
          3,
          4,
          4,
          4,
          4,
          3,
          3,
          3,
          3,
          3,
          2,
          2,
          3,
          3,
          3,
          4,
          4,
          4,
          4,
          4,
          3,
          2,
          2,
          2,
          2,
          2,
          3,
          4,
          4,
          4,
          4,
          4,
          4,
          3,
          3,
          3,
          3
         ],
         "y": [
          0,
          0,
          1,
          1,
          1,
          1,
          1,
          2,
          2,
          3,
          4,
          4,
          4,
          4,
          4,
          3,
          2,
          2,
          2,
          2,
          2,
          2,
          2,
          3,
          4,
          4,
          3,
          3,
          3,
          3,
          3,
          2,
          2,
          2,
          2,
          3,
          4,
          4,
          3,
          2,
          2,
          1,
          0,
          0
         ]
        },
        {
         "marker": {
          "color": "green",
          "size": 12,
          "symbol": "circle"
         },
         "mode": "markers",
         "name": "Collected Items",
         "type": "scatter",
         "x": [
          1,
          3,
          3,
          2,
          3
         ],
         "y": [
          1,
          4,
          2,
          3,
          0
         ]
        },
        {
         "marker": {
          "color": "orange",
          "size": 10,
          "symbol": "diamond"
         },
         "mode": "markers",
         "name": "Visited Cells",
         "type": "scatter",
         "x": [
          4,
          3,
          1,
          3,
          3,
          2,
          2
         ],
         "y": [
          4,
          4,
          1,
          0,
          2,
          2,
          3
         ]
        },
        {
         "marker": {
          "color": "blue",
          "size": 15,
          "symbol": "x"
         },
         "mode": "markers",
         "name": "Charging Station",
         "type": "scatter",
         "x": [
          4
         ],
         "y": [
          4
         ]
        },
        {
         "marker": {
          "color": "red",
          "size": 15,
          "symbol": "circle"
         },
         "mode": "markers",
         "name": "Drop-Off Point",
         "type": "scatter",
         "x": [
          2
         ],
         "y": [
          2
         ]
        }
       ],
       "layout": {
        "height": 600,
        "template": {
         "data": {
          "bar": [
           {
            "error_x": {
             "color": "#2a3f5f"
            },
            "error_y": {
             "color": "#2a3f5f"
            },
            "marker": {
             "line": {
              "color": "#E5ECF6",
              "width": 0.5
             },
             "pattern": {
              "fillmode": "overlay",
              "size": 10,
              "solidity": 0.2
             }
            },
            "type": "bar"
           }
          ],
          "barpolar": [
           {
            "marker": {
             "line": {
              "color": "#E5ECF6",
              "width": 0.5
             },
             "pattern": {
              "fillmode": "overlay",
              "size": 10,
              "solidity": 0.2
             }
            },
            "type": "barpolar"
           }
          ],
          "carpet": [
           {
            "aaxis": {
             "endlinecolor": "#2a3f5f",
             "gridcolor": "white",
             "linecolor": "white",
             "minorgridcolor": "white",
             "startlinecolor": "#2a3f5f"
            },
            "baxis": {
             "endlinecolor": "#2a3f5f",
             "gridcolor": "white",
             "linecolor": "white",
             "minorgridcolor": "white",
             "startlinecolor": "#2a3f5f"
            },
            "type": "carpet"
           }
          ],
          "choropleth": [
           {
            "colorbar": {
             "outlinewidth": 0,
             "ticks": ""
            },
            "type": "choropleth"
           }
          ],
          "contour": [
           {
            "colorbar": {
             "outlinewidth": 0,
             "ticks": ""
            },
            "colorscale": [
             [
              0,
              "#0d0887"
             ],
             [
              0.1111111111111111,
              "#46039f"
             ],
             [
              0.2222222222222222,
              "#7201a8"
             ],
             [
              0.3333333333333333,
              "#9c179e"
             ],
             [
              0.4444444444444444,
              "#bd3786"
             ],
             [
              0.5555555555555556,
              "#d8576b"
             ],
             [
              0.6666666666666666,
              "#ed7953"
             ],
             [
              0.7777777777777778,
              "#fb9f3a"
             ],
             [
              0.8888888888888888,
              "#fdca26"
             ],
             [
              1,
              "#f0f921"
             ]
            ],
            "type": "contour"
           }
          ],
          "contourcarpet": [
           {
            "colorbar": {
             "outlinewidth": 0,
             "ticks": ""
            },
            "type": "contourcarpet"
           }
          ],
          "heatmap": [
           {
            "colorbar": {
             "outlinewidth": 0,
             "ticks": ""
            },
            "colorscale": [
             [
              0,
              "#0d0887"
             ],
             [
              0.1111111111111111,
              "#46039f"
             ],
             [
              0.2222222222222222,
              "#7201a8"
             ],
             [
              0.3333333333333333,
              "#9c179e"
             ],
             [
              0.4444444444444444,
              "#bd3786"
             ],
             [
              0.5555555555555556,
              "#d8576b"
             ],
             [
              0.6666666666666666,
              "#ed7953"
             ],
             [
              0.7777777777777778,
              "#fb9f3a"
             ],
             [
              0.8888888888888888,
              "#fdca26"
             ],
             [
              1,
              "#f0f921"
             ]
            ],
            "type": "heatmap"
           }
          ],
          "heatmapgl": [
           {
            "colorbar": {
             "outlinewidth": 0,
             "ticks": ""
            },
            "colorscale": [
             [
              0,
              "#0d0887"
             ],
             [
              0.1111111111111111,
              "#46039f"
             ],
             [
              0.2222222222222222,
              "#7201a8"
             ],
             [
              0.3333333333333333,
              "#9c179e"
             ],
             [
              0.4444444444444444,
              "#bd3786"
             ],
             [
              0.5555555555555556,
              "#d8576b"
             ],
             [
              0.6666666666666666,
              "#ed7953"
             ],
             [
              0.7777777777777778,
              "#fb9f3a"
             ],
             [
              0.8888888888888888,
              "#fdca26"
             ],
             [
              1,
              "#f0f921"
             ]
            ],
            "type": "heatmapgl"
           }
          ],
          "histogram": [
           {
            "marker": {
             "pattern": {
              "fillmode": "overlay",
              "size": 10,
              "solidity": 0.2
             }
            },
            "type": "histogram"
           }
          ],
          "histogram2d": [
           {
            "colorbar": {
             "outlinewidth": 0,
             "ticks": ""
            },
            "colorscale": [
             [
              0,
              "#0d0887"
             ],
             [
              0.1111111111111111,
              "#46039f"
             ],
             [
              0.2222222222222222,
              "#7201a8"
             ],
             [
              0.3333333333333333,
              "#9c179e"
             ],
             [
              0.4444444444444444,
              "#bd3786"
             ],
             [
              0.5555555555555556,
              "#d8576b"
             ],
             [
              0.6666666666666666,
              "#ed7953"
             ],
             [
              0.7777777777777778,
              "#fb9f3a"
             ],
             [
              0.8888888888888888,
              "#fdca26"
             ],
             [
              1,
              "#f0f921"
             ]
            ],
            "type": "histogram2d"
           }
          ],
          "histogram2dcontour": [
           {
            "colorbar": {
             "outlinewidth": 0,
             "ticks": ""
            },
            "colorscale": [
             [
              0,
              "#0d0887"
             ],
             [
              0.1111111111111111,
              "#46039f"
             ],
             [
              0.2222222222222222,
              "#7201a8"
             ],
             [
              0.3333333333333333,
              "#9c179e"
             ],
             [
              0.4444444444444444,
              "#bd3786"
             ],
             [
              0.5555555555555556,
              "#d8576b"
             ],
             [
              0.6666666666666666,
              "#ed7953"
             ],
             [
              0.7777777777777778,
              "#fb9f3a"
             ],
             [
              0.8888888888888888,
              "#fdca26"
             ],
             [
              1,
              "#f0f921"
             ]
            ],
            "type": "histogram2dcontour"
           }
          ],
          "mesh3d": [
           {
            "colorbar": {
             "outlinewidth": 0,
             "ticks": ""
            },
            "type": "mesh3d"
           }
          ],
          "parcoords": [
           {
            "line": {
             "colorbar": {
              "outlinewidth": 0,
              "ticks": ""
             }
            },
            "type": "parcoords"
           }
          ],
          "pie": [
           {
            "automargin": true,
            "type": "pie"
           }
          ],
          "scatter": [
           {
            "fillpattern": {
             "fillmode": "overlay",
             "size": 10,
             "solidity": 0.2
            },
            "type": "scatter"
           }
          ],
          "scatter3d": [
           {
            "line": {
             "colorbar": {
              "outlinewidth": 0,
              "ticks": ""
             }
            },
            "marker": {
             "colorbar": {
              "outlinewidth": 0,
              "ticks": ""
             }
            },
            "type": "scatter3d"
           }
          ],
          "scattercarpet": [
           {
            "marker": {
             "colorbar": {
              "outlinewidth": 0,
              "ticks": ""
             }
            },
            "type": "scattercarpet"
           }
          ],
          "scattergeo": [
           {
            "marker": {
             "colorbar": {
              "outlinewidth": 0,
              "ticks": ""
             }
            },
            "type": "scattergeo"
           }
          ],
          "scattergl": [
           {
            "marker": {
             "colorbar": {
              "outlinewidth": 0,
              "ticks": ""
             }
            },
            "type": "scattergl"
           }
          ],
          "scattermapbox": [
           {
            "marker": {
             "colorbar": {
              "outlinewidth": 0,
              "ticks": ""
             }
            },
            "type": "scattermapbox"
           }
          ],
          "scatterpolar": [
           {
            "marker": {
             "colorbar": {
              "outlinewidth": 0,
              "ticks": ""
             }
            },
            "type": "scatterpolar"
           }
          ],
          "scatterpolargl": [
           {
            "marker": {
             "colorbar": {
              "outlinewidth": 0,
              "ticks": ""
             }
            },
            "type": "scatterpolargl"
           }
          ],
          "scatterternary": [
           {
            "marker": {
             "colorbar": {
              "outlinewidth": 0,
              "ticks": ""
             }
            },
            "type": "scatterternary"
           }
          ],
          "surface": [
           {
            "colorbar": {
             "outlinewidth": 0,
             "ticks": ""
            },
            "colorscale": [
             [
              0,
              "#0d0887"
             ],
             [
              0.1111111111111111,
              "#46039f"
             ],
             [
              0.2222222222222222,
              "#7201a8"
             ],
             [
              0.3333333333333333,
              "#9c179e"
             ],
             [
              0.4444444444444444,
              "#bd3786"
             ],
             [
              0.5555555555555556,
              "#d8576b"
             ],
             [
              0.6666666666666666,
              "#ed7953"
             ],
             [
              0.7777777777777778,
              "#fb9f3a"
             ],
             [
              0.8888888888888888,
              "#fdca26"
             ],
             [
              1,
              "#f0f921"
             ]
            ],
            "type": "surface"
           }
          ],
          "table": [
           {
            "cells": {
             "fill": {
              "color": "#EBF0F8"
             },
             "line": {
              "color": "white"
             }
            },
            "header": {
             "fill": {
              "color": "#C8D4E3"
             },
             "line": {
              "color": "white"
             }
            },
            "type": "table"
           }
          ]
         },
         "layout": {
          "annotationdefaults": {
           "arrowcolor": "#2a3f5f",
           "arrowhead": 0,
           "arrowwidth": 1
          },
          "autotypenumbers": "strict",
          "coloraxis": {
           "colorbar": {
            "outlinewidth": 0,
            "ticks": ""
           }
          },
          "colorscale": {
           "diverging": [
            [
             0,
             "#8e0152"
            ],
            [
             0.1,
             "#c51b7d"
            ],
            [
             0.2,
             "#de77ae"
            ],
            [
             0.3,
             "#f1b6da"
            ],
            [
             0.4,
             "#fde0ef"
            ],
            [
             0.5,
             "#f7f7f7"
            ],
            [
             0.6,
             "#e6f5d0"
            ],
            [
             0.7,
             "#b8e186"
            ],
            [
             0.8,
             "#7fbc41"
            ],
            [
             0.9,
             "#4d9221"
            ],
            [
             1,
             "#276419"
            ]
           ],
           "sequential": [
            [
             0,
             "#0d0887"
            ],
            [
             0.1111111111111111,
             "#46039f"
            ],
            [
             0.2222222222222222,
             "#7201a8"
            ],
            [
             0.3333333333333333,
             "#9c179e"
            ],
            [
             0.4444444444444444,
             "#bd3786"
            ],
            [
             0.5555555555555556,
             "#d8576b"
            ],
            [
             0.6666666666666666,
             "#ed7953"
            ],
            [
             0.7777777777777778,
             "#fb9f3a"
            ],
            [
             0.8888888888888888,
             "#fdca26"
            ],
            [
             1,
             "#f0f921"
            ]
           ],
           "sequentialminus": [
            [
             0,
             "#0d0887"
            ],
            [
             0.1111111111111111,
             "#46039f"
            ],
            [
             0.2222222222222222,
             "#7201a8"
            ],
            [
             0.3333333333333333,
             "#9c179e"
            ],
            [
             0.4444444444444444,
             "#bd3786"
            ],
            [
             0.5555555555555556,
             "#d8576b"
            ],
            [
             0.6666666666666666,
             "#ed7953"
            ],
            [
             0.7777777777777778,
             "#fb9f3a"
            ],
            [
             0.8888888888888888,
             "#fdca26"
            ],
            [
             1,
             "#f0f921"
            ]
           ]
          },
          "colorway": [
           "#636efa",
           "#EF553B",
           "#00cc96",
           "#ab63fa",
           "#FFA15A",
           "#19d3f3",
           "#FF6692",
           "#B6E880",
           "#FF97FF",
           "#FECB52"
          ],
          "font": {
           "color": "#2a3f5f"
          },
          "geo": {
           "bgcolor": "white",
           "lakecolor": "white",
           "landcolor": "#E5ECF6",
           "showlakes": true,
           "showland": true,
           "subunitcolor": "white"
          },
          "hoverlabel": {
           "align": "left"
          },
          "hovermode": "closest",
          "mapbox": {
           "style": "light"
          },
          "paper_bgcolor": "white",
          "plot_bgcolor": "#E5ECF6",
          "polar": {
           "angularaxis": {
            "gridcolor": "white",
            "linecolor": "white",
            "ticks": ""
           },
           "bgcolor": "#E5ECF6",
           "radialaxis": {
            "gridcolor": "white",
            "linecolor": "white",
            "ticks": ""
           }
          },
          "scene": {
           "xaxis": {
            "backgroundcolor": "#E5ECF6",
            "gridcolor": "white",
            "gridwidth": 2,
            "linecolor": "white",
            "showbackground": true,
            "ticks": "",
            "zerolinecolor": "white"
           },
           "yaxis": {
            "backgroundcolor": "#E5ECF6",
            "gridcolor": "white",
            "gridwidth": 2,
            "linecolor": "white",
            "showbackground": true,
            "ticks": "",
            "zerolinecolor": "white"
           },
           "zaxis": {
            "backgroundcolor": "#E5ECF6",
            "gridcolor": "white",
            "gridwidth": 2,
            "linecolor": "white",
            "showbackground": true,
            "ticks": "",
            "zerolinecolor": "white"
           }
          },
          "shapedefaults": {
           "line": {
            "color": "#2a3f5f"
           }
          },
          "ternary": {
           "aaxis": {
            "gridcolor": "white",
            "linecolor": "white",
            "ticks": ""
           },
           "baxis": {
            "gridcolor": "white",
            "linecolor": "white",
            "ticks": ""
           },
           "bgcolor": "#E5ECF6",
           "caxis": {
            "gridcolor": "white",
            "linecolor": "white",
            "ticks": ""
           }
          },
          "title": {
           "x": 0.05
          },
          "xaxis": {
           "automargin": true,
           "gridcolor": "white",
           "linecolor": "white",
           "ticks": "",
           "title": {
            "standoff": 15
           },
           "zerolinecolor": "white",
           "zerolinewidth": 2
          },
          "yaxis": {
           "automargin": true,
           "gridcolor": "white",
           "linecolor": "white",
           "ticks": "",
           "title": {
            "standoff": 15
           },
           "zerolinecolor": "white",
           "zerolinewidth": 2
          }
         }
        },
        "title": {
         "text": "Warehouse Grid Simulation"
        },
        "width": 600,
        "xaxis": {
         "title": {
          "text": "Column Index"
         }
        },
        "yaxis": {
         "autorange": "reversed",
         "title": {
          "text": "Row Index"
         }
        }
       }
      },
      "text/html": [
       "<div>                            <div id=\"9fc2900e-8450-4ee1-aa1f-08e3627d7466\" class=\"plotly-graph-div\" style=\"height:600px; width:600px;\"></div>            <script type=\"text/javascript\">                require([\"plotly\"], function(Plotly) {                    window.PLOTLYENV=window.PLOTLYENV || {};                                    if (document.getElementById(\"9fc2900e-8450-4ee1-aa1f-08e3627d7466\")) {                    Plotly.newPlot(                        \"9fc2900e-8450-4ee1-aa1f-08e3627d7466\",                        [{\"colorscale\":[[0.0,\"rgb(247,251,255)\"],[0.125,\"rgb(222,235,247)\"],[0.25,\"rgb(198,219,239)\"],[0.375,\"rgb(158,202,225)\"],[0.5,\"rgb(107,174,214)\"],[0.625,\"rgb(66,146,198)\"],[0.75,\"rgb(33,113,181)\"],[0.875,\"rgb(8,81,156)\"],[1.0,\"rgb(8,48,107)\"]],\"name\":\"Grid\",\"showscale\":false,\"z\":[[0.0,0.0,-1.0,2.0,0.0],[0.0,1.0,0.0,0.0,-1.0],[0.0,0.0,0.0,2.0,0.0],[0.0,0.0,3.0,0.0,0.0],[0.0,-1.0,0.0,2.0,0.0]],\"zmax\":3,\"zmin\":-1,\"type\":\"heatmap\"},{\"marker\":{\"color\":\"black\",\"size\":15,\"symbol\":\"x\"},\"mode\":\"markers\",\"name\":\"Obstacles\",\"x\":[2,4,1],\"y\":[0,1,4],\"type\":\"scatter\"},{\"line\":{\"color\":\"red\",\"width\":2},\"marker\":{\"color\":\"red\",\"size\":8},\"mode\":\"markers+lines\",\"name\":\"Path\",\"x\":[0,1,1,1,1,2,3,3,4,4,4,4,3,3,3,3,3,2,2,3,3,3,4,4,4,4,4,3,2,2,2,2,2,3,4,4,4,4,4,4,3,3,3,3],\"y\":[0,0,1,1,1,1,1,2,2,3,4,4,4,4,4,3,2,2,2,2,2,2,2,3,4,4,3,3,3,3,3,2,2,2,2,3,4,4,3,2,2,1,0,0],\"type\":\"scatter\"},{\"marker\":{\"color\":\"green\",\"size\":12,\"symbol\":\"circle\"},\"mode\":\"markers\",\"name\":\"Collected Items\",\"x\":[1,3,3,2,3],\"y\":[1,4,2,3,0],\"type\":\"scatter\"},{\"marker\":{\"color\":\"orange\",\"size\":10,\"symbol\":\"diamond\"},\"mode\":\"markers\",\"name\":\"Visited Cells\",\"x\":[4,3,1,3,3,2,2],\"y\":[4,4,1,0,2,2,3],\"type\":\"scatter\"},{\"marker\":{\"color\":\"blue\",\"size\":15,\"symbol\":\"x\"},\"mode\":\"markers\",\"name\":\"Charging Station\",\"x\":[4],\"y\":[4],\"type\":\"scatter\"},{\"marker\":{\"color\":\"red\",\"size\":15,\"symbol\":\"circle\"},\"mode\":\"markers\",\"name\":\"Drop-Off Point\",\"x\":[2],\"y\":[2],\"type\":\"scatter\"}],                        {\"template\":{\"data\":{\"histogram2dcontour\":[{\"type\":\"histogram2dcontour\",\"colorbar\":{\"outlinewidth\":0,\"ticks\":\"\"},\"colorscale\":[[0.0,\"#0d0887\"],[0.1111111111111111,\"#46039f\"],[0.2222222222222222,\"#7201a8\"],[0.3333333333333333,\"#9c179e\"],[0.4444444444444444,\"#bd3786\"],[0.5555555555555556,\"#d8576b\"],[0.6666666666666666,\"#ed7953\"],[0.7777777777777778,\"#fb9f3a\"],[0.8888888888888888,\"#fdca26\"],[1.0,\"#f0f921\"]]}],\"choropleth\":[{\"type\":\"choropleth\",\"colorbar\":{\"outlinewidth\":0,\"ticks\":\"\"}}],\"histogram2d\":[{\"type\":\"histogram2d\",\"colorbar\":{\"outlinewidth\":0,\"ticks\":\"\"},\"colorscale\":[[0.0,\"#0d0887\"],[0.1111111111111111,\"#46039f\"],[0.2222222222222222,\"#7201a8\"],[0.3333333333333333,\"#9c179e\"],[0.4444444444444444,\"#bd3786\"],[0.5555555555555556,\"#d8576b\"],[0.6666666666666666,\"#ed7953\"],[0.7777777777777778,\"#fb9f3a\"],[0.8888888888888888,\"#fdca26\"],[1.0,\"#f0f921\"]]}],\"heatmap\":[{\"type\":\"heatmap\",\"colorbar\":{\"outlinewidth\":0,\"ticks\":\"\"},\"colorscale\":[[0.0,\"#0d0887\"],[0.1111111111111111,\"#46039f\"],[0.2222222222222222,\"#7201a8\"],[0.3333333333333333,\"#9c179e\"],[0.4444444444444444,\"#bd3786\"],[0.5555555555555556,\"#d8576b\"],[0.6666666666666666,\"#ed7953\"],[0.7777777777777778,\"#fb9f3a\"],[0.8888888888888888,\"#fdca26\"],[1.0,\"#f0f921\"]]}],\"heatmapgl\":[{\"type\":\"heatmapgl\",\"colorbar\":{\"outlinewidth\":0,\"ticks\":\"\"},\"colorscale\":[[0.0,\"#0d0887\"],[0.1111111111111111,\"#46039f\"],[0.2222222222222222,\"#7201a8\"],[0.3333333333333333,\"#9c179e\"],[0.4444444444444444,\"#bd3786\"],[0.5555555555555556,\"#d8576b\"],[0.6666666666666666,\"#ed7953\"],[0.7777777777777778,\"#fb9f3a\"],[0.8888888888888888,\"#fdca26\"],[1.0,\"#f0f921\"]]}],\"contourcarpet\":[{\"type\":\"contourcarpet\",\"colorbar\":{\"outlinewidth\":0,\"ticks\":\"\"}}],\"contour\":[{\"type\":\"contour\",\"colorbar\":{\"outlinewidth\":0,\"ticks\":\"\"},\"colorscale\":[[0.0,\"#0d0887\"],[0.1111111111111111,\"#46039f\"],[0.2222222222222222,\"#7201a8\"],[0.3333333333333333,\"#9c179e\"],[0.4444444444444444,\"#bd3786\"],[0.5555555555555556,\"#d8576b\"],[0.6666666666666666,\"#ed7953\"],[0.7777777777777778,\"#fb9f3a\"],[0.8888888888888888,\"#fdca26\"],[1.0,\"#f0f921\"]]}],\"surface\":[{\"type\":\"surface\",\"colorbar\":{\"outlinewidth\":0,\"ticks\":\"\"},\"colorscale\":[[0.0,\"#0d0887\"],[0.1111111111111111,\"#46039f\"],[0.2222222222222222,\"#7201a8\"],[0.3333333333333333,\"#9c179e\"],[0.4444444444444444,\"#bd3786\"],[0.5555555555555556,\"#d8576b\"],[0.6666666666666666,\"#ed7953\"],[0.7777777777777778,\"#fb9f3a\"],[0.8888888888888888,\"#fdca26\"],[1.0,\"#f0f921\"]]}],\"mesh3d\":[{\"type\":\"mesh3d\",\"colorbar\":{\"outlinewidth\":0,\"ticks\":\"\"}}],\"scatter\":[{\"fillpattern\":{\"fillmode\":\"overlay\",\"size\":10,\"solidity\":0.2},\"type\":\"scatter\"}],\"parcoords\":[{\"type\":\"parcoords\",\"line\":{\"colorbar\":{\"outlinewidth\":0,\"ticks\":\"\"}}}],\"scatterpolargl\":[{\"type\":\"scatterpolargl\",\"marker\":{\"colorbar\":{\"outlinewidth\":0,\"ticks\":\"\"}}}],\"bar\":[{\"error_x\":{\"color\":\"#2a3f5f\"},\"error_y\":{\"color\":\"#2a3f5f\"},\"marker\":{\"line\":{\"color\":\"#E5ECF6\",\"width\":0.5},\"pattern\":{\"fillmode\":\"overlay\",\"size\":10,\"solidity\":0.2}},\"type\":\"bar\"}],\"scattergeo\":[{\"type\":\"scattergeo\",\"marker\":{\"colorbar\":{\"outlinewidth\":0,\"ticks\":\"\"}}}],\"scatterpolar\":[{\"type\":\"scatterpolar\",\"marker\":{\"colorbar\":{\"outlinewidth\":0,\"ticks\":\"\"}}}],\"histogram\":[{\"marker\":{\"pattern\":{\"fillmode\":\"overlay\",\"size\":10,\"solidity\":0.2}},\"type\":\"histogram\"}],\"scattergl\":[{\"type\":\"scattergl\",\"marker\":{\"colorbar\":{\"outlinewidth\":0,\"ticks\":\"\"}}}],\"scatter3d\":[{\"type\":\"scatter3d\",\"line\":{\"colorbar\":{\"outlinewidth\":0,\"ticks\":\"\"}},\"marker\":{\"colorbar\":{\"outlinewidth\":0,\"ticks\":\"\"}}}],\"scattermapbox\":[{\"type\":\"scattermapbox\",\"marker\":{\"colorbar\":{\"outlinewidth\":0,\"ticks\":\"\"}}}],\"scatterternary\":[{\"type\":\"scatterternary\",\"marker\":{\"colorbar\":{\"outlinewidth\":0,\"ticks\":\"\"}}}],\"scattercarpet\":[{\"type\":\"scattercarpet\",\"marker\":{\"colorbar\":{\"outlinewidth\":0,\"ticks\":\"\"}}}],\"carpet\":[{\"aaxis\":{\"endlinecolor\":\"#2a3f5f\",\"gridcolor\":\"white\",\"linecolor\":\"white\",\"minorgridcolor\":\"white\",\"startlinecolor\":\"#2a3f5f\"},\"baxis\":{\"endlinecolor\":\"#2a3f5f\",\"gridcolor\":\"white\",\"linecolor\":\"white\",\"minorgridcolor\":\"white\",\"startlinecolor\":\"#2a3f5f\"},\"type\":\"carpet\"}],\"table\":[{\"cells\":{\"fill\":{\"color\":\"#EBF0F8\"},\"line\":{\"color\":\"white\"}},\"header\":{\"fill\":{\"color\":\"#C8D4E3\"},\"line\":{\"color\":\"white\"}},\"type\":\"table\"}],\"barpolar\":[{\"marker\":{\"line\":{\"color\":\"#E5ECF6\",\"width\":0.5},\"pattern\":{\"fillmode\":\"overlay\",\"size\":10,\"solidity\":0.2}},\"type\":\"barpolar\"}],\"pie\":[{\"automargin\":true,\"type\":\"pie\"}]},\"layout\":{\"autotypenumbers\":\"strict\",\"colorway\":[\"#636efa\",\"#EF553B\",\"#00cc96\",\"#ab63fa\",\"#FFA15A\",\"#19d3f3\",\"#FF6692\",\"#B6E880\",\"#FF97FF\",\"#FECB52\"],\"font\":{\"color\":\"#2a3f5f\"},\"hovermode\":\"closest\",\"hoverlabel\":{\"align\":\"left\"},\"paper_bgcolor\":\"white\",\"plot_bgcolor\":\"#E5ECF6\",\"polar\":{\"bgcolor\":\"#E5ECF6\",\"angularaxis\":{\"gridcolor\":\"white\",\"linecolor\":\"white\",\"ticks\":\"\"},\"radialaxis\":{\"gridcolor\":\"white\",\"linecolor\":\"white\",\"ticks\":\"\"}},\"ternary\":{\"bgcolor\":\"#E5ECF6\",\"aaxis\":{\"gridcolor\":\"white\",\"linecolor\":\"white\",\"ticks\":\"\"},\"baxis\":{\"gridcolor\":\"white\",\"linecolor\":\"white\",\"ticks\":\"\"},\"caxis\":{\"gridcolor\":\"white\",\"linecolor\":\"white\",\"ticks\":\"\"}},\"coloraxis\":{\"colorbar\":{\"outlinewidth\":0,\"ticks\":\"\"}},\"colorscale\":{\"sequential\":[[0.0,\"#0d0887\"],[0.1111111111111111,\"#46039f\"],[0.2222222222222222,\"#7201a8\"],[0.3333333333333333,\"#9c179e\"],[0.4444444444444444,\"#bd3786\"],[0.5555555555555556,\"#d8576b\"],[0.6666666666666666,\"#ed7953\"],[0.7777777777777778,\"#fb9f3a\"],[0.8888888888888888,\"#fdca26\"],[1.0,\"#f0f921\"]],\"sequentialminus\":[[0.0,\"#0d0887\"],[0.1111111111111111,\"#46039f\"],[0.2222222222222222,\"#7201a8\"],[0.3333333333333333,\"#9c179e\"],[0.4444444444444444,\"#bd3786\"],[0.5555555555555556,\"#d8576b\"],[0.6666666666666666,\"#ed7953\"],[0.7777777777777778,\"#fb9f3a\"],[0.8888888888888888,\"#fdca26\"],[1.0,\"#f0f921\"]],\"diverging\":[[0,\"#8e0152\"],[0.1,\"#c51b7d\"],[0.2,\"#de77ae\"],[0.3,\"#f1b6da\"],[0.4,\"#fde0ef\"],[0.5,\"#f7f7f7\"],[0.6,\"#e6f5d0\"],[0.7,\"#b8e186\"],[0.8,\"#7fbc41\"],[0.9,\"#4d9221\"],[1,\"#276419\"]]},\"xaxis\":{\"gridcolor\":\"white\",\"linecolor\":\"white\",\"ticks\":\"\",\"title\":{\"standoff\":15},\"zerolinecolor\":\"white\",\"automargin\":true,\"zerolinewidth\":2},\"yaxis\":{\"gridcolor\":\"white\",\"linecolor\":\"white\",\"ticks\":\"\",\"title\":{\"standoff\":15},\"zerolinecolor\":\"white\",\"automargin\":true,\"zerolinewidth\":2},\"scene\":{\"xaxis\":{\"backgroundcolor\":\"#E5ECF6\",\"gridcolor\":\"white\",\"linecolor\":\"white\",\"showbackground\":true,\"ticks\":\"\",\"zerolinecolor\":\"white\",\"gridwidth\":2},\"yaxis\":{\"backgroundcolor\":\"#E5ECF6\",\"gridcolor\":\"white\",\"linecolor\":\"white\",\"showbackground\":true,\"ticks\":\"\",\"zerolinecolor\":\"white\",\"gridwidth\":2},\"zaxis\":{\"backgroundcolor\":\"#E5ECF6\",\"gridcolor\":\"white\",\"linecolor\":\"white\",\"showbackground\":true,\"ticks\":\"\",\"zerolinecolor\":\"white\",\"gridwidth\":2}},\"shapedefaults\":{\"line\":{\"color\":\"#2a3f5f\"}},\"annotationdefaults\":{\"arrowcolor\":\"#2a3f5f\",\"arrowhead\":0,\"arrowwidth\":1},\"geo\":{\"bgcolor\":\"white\",\"landcolor\":\"#E5ECF6\",\"subunitcolor\":\"white\",\"showland\":true,\"showlakes\":true,\"lakecolor\":\"white\"},\"title\":{\"x\":0.05},\"mapbox\":{\"style\":\"light\"}}},\"yaxis\":{\"title\":{\"text\":\"Row Index\"},\"autorange\":\"reversed\"},\"title\":{\"text\":\"Warehouse Grid Simulation\"},\"xaxis\":{\"title\":{\"text\":\"Column Index\"}},\"width\":600,\"height\":600},                        {\"responsive\": true}                    ).then(function(){\n",
       "                            \n",
       "var gd = document.getElementById('9fc2900e-8450-4ee1-aa1f-08e3627d7466');\n",
       "var x = new MutationObserver(function (mutations, observer) {{\n",
       "        var display = window.getComputedStyle(gd).display;\n",
       "        if (!display || display === 'none') {{\n",
       "            console.log([gd, 'removed!']);\n",
       "            Plotly.purge(gd);\n",
       "            observer.disconnect();\n",
       "        }}\n",
       "}});\n",
       "\n",
       "// Listen for the removal of the full notebook cells\n",
       "var notebookContainer = gd.closest('#notebook-container');\n",
       "if (notebookContainer) {{\n",
       "    x.observe(notebookContainer, {childList: true});\n",
       "}}\n",
       "\n",
       "// Listen for the clearing of the current output cell\n",
       "var outputEl = gd.closest('.output');\n",
       "if (outputEl) {{\n",
       "    x.observe(outputEl, {childList: true});\n",
       "}}\n",
       "\n",
       "                        })                };                });            </script>        </div>"
      ]
     },
     "metadata": {},
     "output_type": "display_data"
    }
   ],
   "source": [
    "import heapq\n",
    "import plotly.graph_objects as go\n",
    "import numpy as np\n",
    "import time\n",
    "import random\n",
    "\n",
    "# Define warehouse item names\n",
    "item_names = {\n",
    "    1: 'Item Type 1',\n",
    "    2: 'Item Type 2',\n",
    "    3: 'Item Type 3'\n",
    "}\n",
    "\n",
    "# Define time for moving between cells and recharging\n",
    "TIME_PER_MOVE = 5  # seconds per move\n",
    "RECHARGE_TIME = 60  # seconds (1 minute)\n",
    "\n",
    "def a_star(grid, start, goal):\n",
    "    rows, cols = len(grid), len(grid[0])\n",
    "    directions = [(0,1), (1,0), (0,-1), (-1,0)]  # Right, Down, Left, Up\n",
    "    \n",
    "    def heuristic(a, b):\n",
    "        return abs(a[0] - b[0]) + abs(a[1] - b[1])\n",
    "    \n",
    "    open_list = []\n",
    "    heapq.heappush(open_list, (0 + heuristic(start, goal), 0, start, []))\n",
    "    visited = set()\n",
    "    \n",
    "    while open_list:\n",
    "        _, cost, current, path = heapq.heappop(open_list)\n",
    "        if current in visited:\n",
    "            continue\n",
    "        visited.add(current)\n",
    "        \n",
    "        if current == goal:\n",
    "            return path + [current]\n",
    "        \n",
    "        for direction in directions:\n",
    "            next_cell = (current[0] + direction[0], current[1] + direction[1])\n",
    "            if (0 <= next_cell[0] < rows and 0 <= next_cell[1] < cols and\n",
    "                grid[next_cell[0]][next_cell[1]] != -1 and next_cell not in visited):\n",
    "                heapq.heappush(open_list, (\n",
    "                    cost + 1 + heuristic(next_cell, goal), \n",
    "                    cost + 1, \n",
    "                    next_cell, \n",
    "                    path + [current]\n",
    "                ))\n",
    "    return []\n",
    "\n",
    "def robot_pathfinding(grid, charging_station, drop_off_point, battery, working_minutes):\n",
    "    items = [(r, c) for r in range(len(grid)) for c in range(len(grid[0])) if grid[r][c] > 0]\n",
    "    start = (0, 0)  # Starting at top-left corner\n",
    "    path = []\n",
    "    collected_items = []\n",
    "    item_paths = {}\n",
    "    visited = set()\n",
    "    total_time_seconds = 0\n",
    "    charge_count = 0\n",
    "    item_times = {}\n",
    "    recharge_times = []\n",
    "    collection_time_elapsed = 0\n",
    "    last_recharge_time = 0\n",
    "\n",
    "    while items and total_time_seconds < working_minutes * 60:\n",
    "        nearest_item = min(items, key=lambda item: len(a_star(grid, start, item)))\n",
    "        item_path = a_star(grid, start, nearest_item)\n",
    "        \n",
    "        if not item_path or len(item_path) > battery:\n",
    "            # If not enough battery to reach the nearest item, return to charging station\n",
    "            if battery < 4:\n",
    "                return_path = a_star(grid, start, charging_station)\n",
    "                if not return_path:\n",
    "                    break\n",
    "                path.extend(return_path)\n",
    "                visited.add(charging_station)\n",
    "                start = charging_station\n",
    "                battery = 4\n",
    "                charge_count += 1\n",
    "                recharge_times.append(RECHARGE_TIME)\n",
    "                total_time_seconds += RECHARGE_TIME\n",
    "                last_recharge_time = total_time_seconds\n",
    "                continue\n",
    "\n",
    "        # Collect item\n",
    "        item_collection_time = random.randint(60, 600)  # Random time between 1 and 10 minutes\n",
    "        total_time_seconds += item_collection_time\n",
    "        collection_time_elapsed += item_collection_time\n",
    "        item_paths[nearest_item] = item_path\n",
    "        path.extend(item_path)\n",
    "        path.append(nearest_item)\n",
    "        collected_items.append(nearest_item)\n",
    "        visited.add(nearest_item)\n",
    "        start = nearest_item\n",
    "        items.remove(nearest_item)\n",
    "        battery -= len(item_path)\n",
    "        item_times[nearest_item] = item_collection_time\n",
    "\n",
    "        # Drop off items after collecting 2 items\n",
    "        if len(collected_items) % 2 == 0:\n",
    "            drop_path = a_star(grid, start, drop_off_point)\n",
    "            if drop_path:\n",
    "                path.extend(drop_path)\n",
    "                visited.add(drop_off_point)\n",
    "                start = drop_off_point  # Update starting point to drop-off point\n",
    "\n",
    "        # Recharge if 20 minutes have passed since the last recharge\n",
    "        if collection_time_elapsed - last_recharge_time >= 20 * 60:\n",
    "            return_path = a_star(grid, start, charging_station)\n",
    "            if return_path:\n",
    "                path.extend(return_path)\n",
    "                visited.add(charging_station)\n",
    "                start = charging_station\n",
    "                battery = 4\n",
    "                charge_count += 1\n",
    "                recharge_times.append(RECHARGE_TIME)\n",
    "                total_time_seconds += RECHARGE_TIME\n",
    "                last_recharge_time = total_time_seconds\n",
    "                collection_time_elapsed = 0\n",
    "\n",
    "    return path, collected_items, item_paths, visited, item_times, recharge_times, charge_count, total_time_seconds\n",
    "\n",
    "def plot_grid(grid, path, collected_items, item_paths, visited, charging_station, drop_off_point):\n",
    "    rows, cols = len(grid), len(grid[0])\n",
    "    grid_display = np.zeros((rows, cols))\n",
    "\n",
    "    # Fill grid_display with item values and markers for charging station, drop-off point, and obstacles\n",
    "    for r in range(rows):\n",
    "        for c in range(cols):\n",
    "            if grid[r][c] == -1:\n",
    "                grid_display[r, c] = -1  # Obstacles\n",
    "            elif grid[r][c] > 0:\n",
    "                grid_display[r, c] = grid[r][c]  # Items\n",
    "\n",
    "    fig = go.Figure()\n",
    "\n",
    "    # Plot grid\n",
    "    fig.add_trace(go.Heatmap(\n",
    "        z=grid_display,\n",
    "        colorscale='Blues',\n",
    "        zmin=-1,\n",
    "        zmax=3,\n",
    "        showscale=False,\n",
    "        name='Grid'\n",
    "    ))\n",
    "\n",
    "    # Plot obstacles\n",
    "    obs_x, obs_y = zip(*[(r, c) for r in range(rows) for c in range(cols) if grid[r][c] == -1])\n",
    "    fig.add_trace(go.Scatter(\n",
    "        x=obs_y,\n",
    "        y=obs_x,\n",
    "        mode='markers',\n",
    "        marker=dict(size=15, color='black', symbol='x'),\n",
    "        name='Obstacles'\n",
    "    ))\n",
    "\n",
    "    # Plot path\n",
    "    path_x, path_y = zip(*path)\n",
    "    fig.add_trace(go.Scatter(\n",
    "        x=path_y,\n",
    "        y=path_x,\n",
    "        mode='markers+lines',\n",
    "        marker=dict(size=8, color='red'),\n",
    "        line=dict(color='red', width=2),\n",
    "        name='Path'\n",
    "    ))\n",
    "\n",
    "    # Plot collected items\n",
    "    if collected_items:\n",
    "        items_x, items_y = zip(*collected_items)\n",
    "        fig.add_trace(go.Scatter(\n",
    "            x=items_y,\n",
    "            y=items_x,\n",
    "            mode='markers',\n",
    "            marker=dict(size=12, color='green', symbol='circle'),\n",
    "            name='Collected Items'\n",
    "        ))\n",
    "\n",
    "    # Plot visited cells excluding obstacles\n",
    "    visited_x, visited_y = zip(*[v for v in visited if grid[v[0]][v[1]] != -1])\n",
    "    fig.add_trace(go.Scatter(\n",
    "        x=visited_y,\n",
    "        y=visited_x,\n",
    "        mode='markers',\n",
    "        marker=dict(size=10, color='orange', symbol='diamond'),\n",
    "        name='Visited Cells'\n",
    "    ))\n",
    "\n",
    "    # Plot charging station\n",
    "    fig.add_trace(go.Scatter(\n",
    "        x=[charging_station[1]],\n",
    "        y=[charging_station[0]],\n",
    "        mode='markers',\n",
    "        marker=dict(size=15, color='blue', symbol='x'),\n",
    "        name='Charging Station'\n",
    "    ))\n",
    "\n",
    "    # Plot drop-off point\n",
    "    fig.add_trace(go.Scatter(\n",
    "        x=[drop_off_point[1]],\n",
    "        y=[drop_off_point[0]],\n",
    "        mode='markers',\n",
    "        marker=dict(size=15, color='red', symbol='circle'),\n",
    "        name='Drop-Off Point'\n",
    "    ))\n",
    "\n",
    "    fig.update_layout(\n",
    "        title='Warehouse Grid Simulation',\n",
    "        xaxis=dict(title='Column Index'),\n",
    "        yaxis=dict(title='Row Index', autorange='reversed'),\n",
    "        width=600,\n",
    "        height=600\n",
    "    )\n",
    "    fig.show()\n",
    "\n",
    "def simulate_robot(grid, charging_station, drop_off_point, battery, working_minutes):\n",
    "    start_time = time.time()\n",
    "    path, collected_items, item_paths, visited, item_times, recharge_times, charge_count, total_time_seconds = robot_pathfinding(grid, charging_station, drop_off_point, battery, working_minutes)\n",
    "    end_time = time.time()\n",
    "    \n",
    "    item_names_collected = [item_names[grid[r][c]] for (r, c) in collected_items]\n",
    "    \n",
    "    print(f\"Collected Items: {item_names_collected}\")\n",
    "    print(f\"Total Time Taken: {total_time_seconds / 60:.2f} minutes\")\n",
    "    print(f\"Total Charging Events: {charge_count}\")\n",
    "\n",
    "    # Print item collection paths\n",
    "    for item in item_paths:\n",
    "        print(f\"Path to collect item at {item}: {item_paths[item]}\")\n",
    "\n",
    "    # Print item collection times\n",
    "    for item in collected_items:\n",
    "        print(f\"Time taken to collect item at {item}: {item_times.get(item, 'N/A') / 60:.2f} minutes\")\n",
    "\n",
    "    # Print recharge times\n",
    "    for idx, recharge_time in enumerate(recharge_times):\n",
    "        print(f\"Recharge {idx + 1}: {recharge_time / 60:.2f} minutes\")\n",
    "\n",
    "    plot_grid(grid, path, collected_items, item_paths, visited, charging_station, drop_off_point)\n",
    "\n",
    "#  grid: 0 = empty, -1 = obstacle, >0 = item , 1,2,3 are items\n",
    "grid = [\n",
    "    [ 0,  0,  -1,  2,  0],\n",
    "    [ 0,  1,  0,  0, -1],\n",
    "    [ 0,  0,  0,  2,  0],\n",
    "    [ 0,  0,  3,  0,  0],\n",
    "    [ 0, -1,  0,  2,  0]\n",
    "]\n",
    "\n",
    "charging_station = (4, 4)\n",
    "drop_off_point = (2, 2)\n",
    "battery = 4\n",
    "working_minutes = 50\n",
    "\n",
    "simulate_robot(grid, charging_station, drop_off_point, battery, working_minutes)\n"
   ]
  },
  {
   "cell_type": "code",
   "execution_count": 12,
   "id": "2b6bcb3f",
   "metadata": {},
   "outputs": [
    {
     "ename": "SystemExit",
     "evalue": "",
     "output_type": "error",
     "traceback": [
      "An exception has occurred, use %tb to see the full traceback.\n",
      "\u001b[1;31mSystemExit\u001b[0m\n"
     ]
    }
   ],
   "source": [
    "import pygame\n",
    "import sys\n",
    "import random\n",
    "import heapq\n",
    "from pygame.locals import *\n",
    "\n",
    "# Initialize pygame\n",
    "pygame.init()\n",
    "\n",
    "# Screen dimensions\n",
    "SCREEN_WIDTH = 800\n",
    "SCREEN_HEIGHT = 600\n",
    "GRID_SIZE = 20  # Decreased grid size for smaller paths\n",
    "\n",
    "# Colors\n",
    "WHITE = (255, 255, 255)\n",
    "BLACK = (0, 0, 0)\n",
    "RED = (255, 0, 0)\n",
    "GREEN = (0, 255, 0)\n",
    "BLUE = (0, 0, 255)\n",
    "YELLOW = (255, 255, 0)  # Define YELLOW color\n",
    "\n",
    "# Create screen\n",
    "screen = pygame.display.set_mode((SCREEN_WIDTH, SCREEN_HEIGHT))\n",
    "pygame.display.set_caption(\"Delivery Robot\")\n",
    "\n",
    "# Grid and Obstacles\n",
    "def create_grid():\n",
    "    grid = []\n",
    "    for x in range(0, SCREEN_WIDTH, GRID_SIZE):\n",
    "        for y in range(0, SCREEN_HEIGHT, GRID_SIZE):\n",
    "            grid.append((x, y))\n",
    "    return grid\n",
    "\n",
    "def draw_grid():\n",
    "    for x, y in grid:\n",
    "        rect = pygame.Rect(x, y, GRID_SIZE, GRID_SIZE)\n",
    "        pygame.draw.rect(screen, BLACK, rect, 1)\n",
    "\n",
    "# Heuristic for A* (Manhattan distance)\n",
    "def heuristic(a, b):\n",
    "    return abs(a[0] - b[0]) + abs(a[1] - b[1])\n",
    "\n",
    "# A* Algorithm\n",
    "def a_star_search(start, goal, obstacles):\n",
    "    open_set = []\n",
    "    heapq.heappush(open_set, (0, start))\n",
    "    came_from = {}\n",
    "    g_score = {start: 0}\n",
    "    f_score = {start: heuristic(start, goal)}\n",
    "    \n",
    "    while open_set:\n",
    "        current = heapq.heappop(open_set)[1]\n",
    "        \n",
    "        if current == goal:\n",
    "            path = []\n",
    "            while current in came_from:\n",
    "                path.append(current)\n",
    "                current = came_from[current]\n",
    "            path.reverse()\n",
    "            return path\n",
    "        \n",
    "        for dx, dy in [(-GRID_SIZE, 0), (GRID_SIZE, 0), (0, -GRID_SIZE), (0, GRID_SIZE)]:\n",
    "            neighbor = (current[0] + dx, current[1] + dy)\n",
    "            if 0 <= neighbor[0] < SCREEN_WIDTH and 0 <= neighbor[1] < SCREEN_HEIGHT and neighbor not in obstacles:\n",
    "                tentative_g_score = g_score[current] + 1\n",
    "                if neighbor not in g_score or tentative_g_score < g_score[neighbor]:\n",
    "                    came_from[neighbor] = current\n",
    "                    g_score[neighbor] = tentative_g_score\n",
    "                    f_score[neighbor] = tentative_g_score + heuristic(neighbor, goal)\n",
    "                    heapq.heappush(open_set, (f_score[neighbor], neighbor))\n",
    "    return []\n",
    "\n",
    "# Robot class\n",
    "class Robot:\n",
    "    def __init__(self):\n",
    "        self.rect = pygame.Rect(GRID_SIZE, GRID_SIZE, GRID_SIZE, GRID_SIZE)\n",
    "        self.color = BLUE\n",
    "        self.battery = 100\n",
    "        self.carrying = None\n",
    "        self.path = []\n",
    "        self.recharging = False  # Flag to indicate if robot is recharging\n",
    "\n",
    "    def update(self, obstacles, charging_station):\n",
    "        if self.path:\n",
    "            next_move = self.path.pop(0)\n",
    "            self.rect.topleft = next_move\n",
    "            self.battery -= 1\n",
    "\n",
    "        # Check battery level and task state\n",
    "        if self.battery <= 30 and not self.carrying and not self.recharging:\n",
    "            self.path = a_star_search(self.rect.topleft, charging_station, obstacles.values())\n",
    "            self.recharging = True  # Set recharging flag\n",
    "\n",
    "        if self.recharging and self.rect.topleft == charging_station:\n",
    "            self.battery = 100  # Charge directly to 100%\n",
    "            self.recharging = False  # Reset recharging flag once fully charged\n",
    "\n",
    "        if self.battery > 0 and not self.path:\n",
    "            self.recharging = False  # Reset recharging flag when not moving to recharge\n",
    "\n",
    "    def draw(self):\n",
    "        pygame.draw.rect(screen, self.color, self.rect)\n",
    "        if self.carrying:\n",
    "            pygame.draw.circle(screen, RED, self.rect.center, 10)\n",
    "        \n",
    "        # Display battery percentage or \"DEAD\" message\n",
    "        font = pygame.font.Font(None, 24)\n",
    "        if self.battery > 0:\n",
    "            text_surface = font.render(f\"Battery: {self.battery}%\", True, BLACK)\n",
    "        else:\n",
    "            text_surface = font.render(\"DEAD\", True, RED)\n",
    "        screen.blit(text_surface, (10, 10))\n",
    "\n",
    "# Define hospital-related obstacles\n",
    "def generate_obstacles():\n",
    "    fixed_obstacles = {\n",
    "        \"Obstacle_1\": (6 * GRID_SIZE, 6 * GRID_SIZE),\n",
    "        \"Obstacle_2\": (14 * GRID_SIZE, 14 * GRID_SIZE),\n",
    "        \"Obstacle_3\": (10 * GRID_SIZE, 3 * GRID_SIZE)\n",
    "    }\n",
    "    \n",
    "    random_obstacles = {\n",
    "        f\"Obstacle_{i}\": (random.choice(range(0, SCREEN_WIDTH, GRID_SIZE)), random.choice(range(0, SCREEN_HEIGHT, GRID_SIZE)))\n",
    "        for i in range(4, 20)  # Start from 4 to avoid overlap with fixed obstacles\n",
    "    }\n",
    "    \n",
    "    obstacles = {**fixed_obstacles, **random_obstacles}\n",
    "    return obstacles\n",
    "\n",
    "# Environment setup\n",
    "grid = create_grid()\n",
    "obstacles = generate_obstacles()\n",
    "\n",
    "# Define special locations\n",
    "storage_room = (4 * GRID_SIZE, 4 * GRID_SIZE)\n",
    "patient_room = (12 * GRID_SIZE, 12 * GRID_SIZE)\n",
    "charging_station = (2 * GRID_SIZE, 2 * GRID_SIZE)  # Adjusted position for charging station\n",
    "\n",
    "# Main loop\n",
    "robot = Robot()\n",
    "state = \"DELIVERY_REQUEST\"\n",
    "running = True\n",
    "\n",
    "while running:\n",
    "    screen.fill(WHITE)\n",
    "    draw_grid()\n",
    "    \n",
    "    # Draw storage room, patient room, charging station, and obstacles\n",
    "    pygame.draw.rect(screen, GREEN, pygame.Rect(storage_room[0], storage_room[1], GRID_SIZE, GRID_SIZE))\n",
    "    pygame.draw.rect(screen, RED, pygame.Rect(patient_room[0], patient_room[1], GRID_SIZE, GRID_SIZE))\n",
    "    pygame.draw.rect(screen, BLACK, pygame.Rect(charging_station[0], charging_station[1], GRID_SIZE, GRID_SIZE))\n",
    "    \n",
    "    for name, obstacle_pos in obstacles.items():\n",
    "        pygame.draw.rect(screen, BLACK, pygame.Rect(obstacle_pos[0], obstacle_pos[1], GRID_SIZE, GRID_SIZE))\n",
    "        obstacle_font = pygame.font.Font(None, 12)  # Decreased font size for obstacle labels\n",
    "        obstacle_label = obstacle_font.render(name, True, BLACK)\n",
    "        screen.blit(obstacle_label, (obstacle_pos[0] + 2, obstacle_pos[1] + 2))  # Adjusted label position\n",
    "\n",
    "    # Draw charging station\n",
    "    pygame.draw.rect(screen, BLACK, pygame.Rect(charging_station[0], charging_station[1], GRID_SIZE, GRID_SIZE))\n",
    "    pygame.draw.circle(screen, YELLOW, (charging_station[0] + GRID_SIZE // 2, charging_station[1] + GRID_SIZE // 2), 5)\n",
    "    \n",
    "    # Handle events\n",
    "    for event in pygame.event.get():\n",
    "        if event.type == QUIT:\n",
    "            pygame.quit()\n",
    "            sys.exit()\n",
    "\n",
    "    # State machine for robot actions\n",
    "    if state == \"DELIVERY_REQUEST\":\n",
    "        # Receive delivery request\n",
    "        robot.path = a_star_search(robot.rect.topleft, storage_room, obstacles.values())\n",
    "        state = \"NAVIGATE_TO_STORAGE\"\n",
    "    \n",
    "    elif state == \"NAVIGATE_TO_STORAGE\":\n",
    "        if not robot.path:\n",
    "            robot.carrying = \"Medication\"\n",
    "            state = \"PICK_UP_MEDICATION\"\n",
    "        else:\n",
    "            robot.update(obstacles, charging_station)\n",
    "\n",
    "    elif state == \"PICK_UP_MEDICATION\":\n",
    "        robot.path = a_star_search(storage_room, patient_room, obstacles.values())\n",
    "        state = \"NAVIGATE_TO_PATIENT_ROOM\"\n",
    "    \n",
    "    elif state == \"NAVIGATE_TO_PATIENT_ROOM\":\n",
    "        if not robot.path:\n",
    "            state = \"DELIVER_MEDICATION\"\n",
    "        else:\n",
    "            robot.update(obstacles, charging_station)\n",
    "    \n",
    "    elif state == \"DELIVER_MEDICATION\":\n",
    "        robot.carrying = None\n",
    "        robot.path = a_star_search(patient_room, charging_station, obstacles.values())\n",
    "        state = \"UPDATE_OBSTACLES\"\n",
    "\n",
    "    elif state == \"UPDATE_OBSTACLES\":\n",
    "        # Example of updating obstacles\n",
    "        obstacles = generate_obstacles()\n",
    "        state = \"DELIVERY_REQUEST\"\n",
    "\n",
    "    # Draw robot\n",
    "    robot.draw()\n",
    "\n",
    "    # Update display\n",
    "    pygame.display.flip()\n",
    "    pygame.time.wait(100)\n"
   ]
  },
  {
   "cell_type": "code",
   "execution_count": null,
   "id": "b64c28e8",
   "metadata": {},
   "outputs": [],
   "source": []
  }
 ],
 "metadata": {
  "kernelspec": {
   "display_name": "Python 3 (ipykernel)",
   "language": "python",
   "name": "python3"
  },
  "language_info": {
   "codemirror_mode": {
    "name": "ipython",
    "version": 3
   },
   "file_extension": ".py",
   "mimetype": "text/x-python",
   "name": "python",
   "nbconvert_exporter": "python",
   "pygments_lexer": "ipython3",
   "version": "3.9.19"
  }
 },
 "nbformat": 4,
 "nbformat_minor": 5
}
